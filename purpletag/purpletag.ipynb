{
 "cells": [
  {
   "cell_type": "code",
   "execution_count": 1,
   "metadata": {
    "collapsed": false
   },
   "outputs": [],
   "source": [
    "import os\n",
    "import pandas as pd\n",
    "import yaml\n",
    "import configparser"
   ]
  },
  {
   "cell_type": "markdown",
   "metadata": {},
   "source": [
    "# Functions"
   ]
  },
  {
   "cell_type": "code",
   "execution_count": 6,
   "metadata": {
    "collapsed": true
   },
   "outputs": [],
   "source": [
    "# generate a list of legislators that have twitter handles\n",
    "def parse_twitter_handles(config):\n",
    "    yaml_doc_path = config.get('data', 'path') + '/' + config.get('data', 'twitter_yaml')\n",
    "    if not os.path.isfile(yaml_doc_path):\n",
    "        fetch_twitter_handles()\n",
    "    yaml_doc = yaml.load(open(yaml_doc_path, 'r'))\n",
    "    return [d for d in yaml_doc if 'twitter' in d['social']]\n",
    "\n",
    "# create a dict where the key is the date and the value is a \n",
    "# list of lists [[moc, score],[moc, score],...] for that day\n",
    "def parse_moc_scores(config, score_files):\n",
    "    moc_scores = {}\n",
    "    for f in score_files:\n",
    "        score_path = config.get('data', 'path') + '/' + config.get('data', 'scores') + '/' + f\n",
    "        if '.1.' in f:\n",
    "            components = f.split('.')\n",
    "            date = components[0]\n",
    "            if components[2] == 'moc':\n",
    "                with open(score_path) as score_file:\n",
    "                    scores = score_file.readlines()\n",
    "                moc_scores[date] = scores\n",
    "    return moc_scores\n",
    "\n",
    "# create a dict of scores for each legislator\n",
    "# on each date for which scores are available\n",
    "def read_scores(legislators, scores):\n",
    "    leg_scores = {}\n",
    "    for l in legislators:\n",
    "        handle = l['social']['twitter'].lower()\n",
    "        leg_scores[handle] = {}\n",
    "\n",
    "    for date in scores:\n",
    "        for score_item in scores[date]:\n",
    "            handle, score = score_item.split()\n",
    "            leg_scores[handle][date] = score\n",
    "    return leg_scores"
   ]
  },
  {
   "cell_type": "markdown",
   "metadata": {},
   "source": [
    "# main()"
   ]
  },
  {
   "cell_type": "code",
   "execution_count": 9,
   "metadata": {
    "collapsed": false
   },
   "outputs": [],
   "source": [
    "config = configparser.ConfigParser()\n",
    "config.read('settings.cfg')\n",
    "score_path = config.get('data', 'path') + '/' + config.get('data', 'scores') + '/'\n",
    "score_files = os.listdir(score_path)\n",
    "moc_scores = parse_moc_scores(config, score_files)\n",
    "mocs_with_twitter = parse_twitter_handles(config)\n",
    "moc_scores_by_date = read_scores(mocs_with_twitter, moc_scores)\n",
    "df = pd.DataFrame(dict([(k, pd.Series(v)) for k,v in moc_scores_by_date.items()])).transpose().dropna(how='all')\n",
    "data_file = config.get('data', 'path') + '/' + config.get('data', 'moc_scores')\n",
    "df.to_csv(data_file, sep='\\t')"
   ]
  },
  {
   "cell_type": "code",
   "execution_count": null,
   "metadata": {
    "collapsed": false
   },
   "outputs": [],
   "source": [
    "df"
   ]
  }
 ],
 "metadata": {
  "kernelspec": {
   "display_name": "Python 3",
   "language": "python",
   "name": "python3"
  },
  "language_info": {
   "codemirror_mode": {
    "name": "ipython",
    "version": 3
   },
   "file_extension": ".py",
   "mimetype": "text/x-python",
   "name": "python",
   "nbconvert_exporter": "python",
   "pygments_lexer": "ipython3",
   "version": "3.4.3"
  }
 },
 "nbformat": 4,
 "nbformat_minor": 0
}
