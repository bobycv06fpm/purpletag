{
 "cells": [
  {
   "cell_type": "code",
   "execution_count": null,
   "metadata": {
    "collapsed": false
   },
   "outputs": [],
   "source": [
    "import os\n",
    "import pandas as pd\n",
    "import yaml\n",
    "import configparser"
   ]
  },
  {
   "cell_type": "markdown",
   "metadata": {},
   "source": [
    "# Functions"
   ]
  },
  {
   "cell_type": "code",
   "execution_count": null,
   "metadata": {
    "collapsed": true
   },
   "outputs": [],
   "source": [
    "# generate a list of legislators that have twitter handles\n",
    "def parse_twitter_handles(config):\n",
    "    yaml_doc_path = config.get('data', 'path') + '/' + config.get('data', 'twitter_yaml')\n",
    "    if not os.path.isfile(yaml_doc_path):\n",
    "        fetch_twitter_handles()\n",
    "    yaml_doc = yaml.load(open(yaml_doc_path, 'r'))\n",
    "    return [d for d in yaml_doc if 'twitter' in d['social']]\n",
    "\n",
    "# create a dict where the key is the date and the value is a \n",
    "# list of lists [[moc, score],[moc, score],...] for that day\n",
    "def parse_moc_scores(config, score_files):\n",
    "    moc_scores = {}\n",
    "    for f in score_files:\n",
    "        score_path = config.get('data', 'path') + '/' + config.get('data', 'scores') + '/' + f\n",
    "        if '.1.' in f:\n",
    "            components = f.split('.')\n",
    "            date = components[0]\n",
    "            if components[2] == 'moc':\n",
    "                with open(score_path) as score_file:\n",
    "                    scores = score_file.readlines()\n",
    "                moc_scores[date] = scores\n",
    "    return moc_scores\n",
    "\n",
    "# create a dict of scores for each legislator\n",
    "# on each date for which scores are available\n",
    "def read_scores(legislators, scores):\n",
    "    leg_scores = {}\n",
    "    for l in legislators:\n",
    "        handle = l['social']['twitter'].lower()\n",
    "        leg_scores[handle] = {}\n",
    "\n",
    "    for date in scores:\n",
    "        for score_item in scores[date]:\n",
    "            handle, score = score_item.split()\n",
    "            leg_scores[handle][date] = score\n",
    "    return leg_scores"
   ]
  },
  {
   "cell_type": "markdown",
   "metadata": {},
   "source": [
    "# main()"
   ]
  },
  {
   "cell_type": "code",
   "execution_count": null,
   "metadata": {
    "collapsed": false
   },
   "outputs": [],
   "source": [
    "config = configparser.ConfigParser()\n",
    "config.read('settings.cfg')\n",
    "score_path = config.get('data', 'path') + '/' + config.get('data', 'scores') + '/'\n",
    "score_files = os.listdir(score_path)\n",
    "moc_scores = parse_moc_scores(config, score_files)\n",
    "mocs_with_twitter = parse_twitter_handles(config)\n",
    "moc_scores_by_date = read_scores(mocs_with_twitter, moc_scores)\n",
    "df = pd.DataFrame(dict([(k, pd.Series(v)) for k,v in moc_scores_by_date.items()])).transpose().dropna(how='all')\n",
    "data_file = config.get('data', 'path') + '/' + config.get('data', 'moc_scores')\n",
    "df.to_csv(data_file, sep='\\t')"
   ]
  },
  {
   "cell_type": "markdown",
   "metadata": {
    "collapsed": false
   },
   "source": [
    "Now read data file saved from AWS server and do next steps for analysis."
   ]
  },
  {
   "cell_type": "code",
   "execution_count": null,
   "metadata": {
    "collapsed": false
   },
   "outputs": [],
   "source": [
    "full_df = pd.read_csv('moc_scores_by_date.csv', sep = '\\t')"
   ]
  },
  {
   "cell_type": "markdown",
   "metadata": {},
   "source": [
    "Labor Day 2016 - Monday September 5. Tuesday, September 6 is 9 weeks before election. 2016-09-"
   ]
  },
  {
   "cell_type": "code",
   "execution_count": null,
   "metadata": {
    "collapsed": false
   },
   "outputs": [],
   "source": [
    "all_dates = list(full_df.columns.values)\n",
    "len(all_dates)"
   ]
  },
  {
   "cell_type": "code",
   "execution_count": null,
   "metadata": {
    "collapsed": false
   },
   "outputs": [],
   "source": [
    "last_date = all_dates[365]\n",
    "last_date"
   ]
  },
  {
   "cell_type": "code",
   "execution_count": null,
   "metadata": {
    "collapsed": false
   },
   "outputs": [],
   "source": [
    "import datetime\n",
    "date_parts = last_date.strip('-')\n",
    "\n",
    "start_date = datetime.date(2016, 9, 6)\n",
    "end_date = datetime.date(2016, 11, 8)"
   ]
  },
  {
   "cell_type": "code",
   "execution_count": null,
   "metadata": {
    "collapsed": false
   },
   "outputs": [],
   "source": [
    "date_parts"
   ]
  },
  {
   "cell_type": "code",
   "execution_count": null,
   "metadata": {
    "collapsed": false
   },
   "outputs": [],
   "source": [
    "len(last_date)"
   ]
  },
  {
   "cell_type": "code",
   "execution_count": null,
   "metadata": {
    "collapsed": true
   },
   "outputs": [],
   "source": [
    "year = int(last_date[:4])\n",
    "month = int(last_date[5:7])\n",
    "day = int(last_date[8:])"
   ]
  },
  {
   "cell_type": "code",
   "execution_count": null,
   "metadata": {
    "collapsed": false
   },
   "outputs": [],
   "source": [
    "interesting_dates = []\n",
    "for date in all_dates:\n",
    "    try:\n",
    "        year = int(date[:4])\n",
    "        month = int(date[5:7])\n",
    "        day = int(date[8:])\n",
    "    except:\n",
    "        continue\n",
    "    \n",
    "    date_in_question = datetime.date(year, month, day)\n",
    "    if start_date <= date_in_question <= end_date:\n",
    "        interesting_dates.append(date)"
   ]
  },
  {
   "cell_type": "code",
   "execution_count": null,
   "metadata": {
    "collapsed": false
   },
   "outputs": [],
   "source": [
    "interesting_df = full_df.filter(interesting_dates)\n",
    "interesting_df.to_csv('purpletag_moc_scores_election_2016.csv', sep='\\t')"
   ]
  },
  {
   "cell_type": "markdown",
   "metadata": {
    "collapsed": false
   },
   "source": [
    "# Legislator Info"
   ]
  },
  {
   "cell_type": "code",
   "execution_count": 1,
   "metadata": {
    "collapsed": false
   },
   "outputs": [],
   "source": [
    "import yaml\n",
    "yaml_doc = yaml.load(open('legislators-current.yaml', 'r'))\n",
    "#return [d for d in yaml_doc if 'twitter' in d['social']]"
   ]
  },
  {
   "cell_type": "code",
   "execution_count": 24,
   "metadata": {
    "collapsed": false
   },
   "outputs": [],
   "source": [
    "#yaml_doc[0]"
   ]
  },
  {
   "cell_type": "code",
   "execution_count": 22,
   "metadata": {
    "collapsed": false
   },
   "outputs": [],
   "source": [
    "name = yaml_doc[0]['name']['official_full']\n",
    "chamber = yaml_doc[0]['terms'][-1]['type']\n",
    "state = yaml_doc[0]['terms'][-1]['state']\n",
    "\n",
    "if yaml_doc[-1]['terms'][-1]['type'] == 'rep':\n",
    "    district = yaml_doc[-1]['terms'][-1]['district']\n",
    "else:\n",
    "    district = 99\n",
    "\n",
    "for x in reversed(range(len(yaml_doc[0]['terms']))):\n",
    "    if yaml_doc[0]['terms'][x]['type'] == chamber:\n",
    "        start = yaml_doc[0]['terms'][x]['start']\n",
    "        \n",
    "party = yaml_doc[0]['terms'][-1]['party']\n",
    "url = yaml_doc[0]['terms'][-1]['url']\n",
    "\n",
    "legislator = {'name': name, 'chamber': chamber, 'state': state, 'district': district, 'start_date': start, 'party': party, 'url': url}"
   ]
  },
  {
   "cell_type": "code",
   "execution_count": 23,
   "metadata": {
    "collapsed": false
   },
   "outputs": [
    {
     "data": {
      "text/plain": [
       "{'chamber': 'sen',\n",
       " 'district': 2,\n",
       " 'name': 'Sherrod Brown',\n",
       " 'party': 'Democrat',\n",
       " 'start_date': '2007-01-04',\n",
       " 'state': 'OH',\n",
       " 'url': 'https://www.brown.senate.gov'}"
      ]
     },
     "execution_count": 23,
     "metadata": {},
     "output_type": "execute_result"
    }
   ],
   "source": [
    "legislator"
   ]
  },
  {
   "cell_type": "code",
   "execution_count": 26,
   "metadata": {
    "collapsed": false
   },
   "outputs": [],
   "source": [
    "all_reps = []\n",
    "for item in yaml_doc:\n",
    "    name = item['name']['official_full']\n",
    "    chamber = item['terms'][-1]['type']\n",
    "    state = item['terms'][-1]['state']\n",
    "    # only house has district, senators are assigned district 99\n",
    "    if item['terms'][-1]['type'] == 'rep':\n",
    "        district = item['terms'][-1]['district']\n",
    "    else:\n",
    "        district = 99\n",
    "    # start date of first term in current chamber\n",
    "    for x in reversed(range(len(item['terms']))):\n",
    "        if item['terms'][x]['type'] == chamber:\n",
    "            start = item['terms'][x]['start']\n",
    "    party = item['terms'][-1]['party']\n",
    "    # not all reps have a url\n",
    "    if 'url' in item['terms'][-1]:\n",
    "        url = item['terms'][-1]['url']\n",
    "    else:\n",
    "        url = 'none'\n",
    "    legislator = {'name': name, 'chamber': chamber, 'state': state, 'district': district, 'start_date': start, 'party': party, 'url': url}\n",
    "    all_reps.append(legislator)"
   ]
  },
  {
   "cell_type": "markdown",
   "metadata": {},
   "source": [
    "need to map this list of legislators to a list of twitter handles, not every rep uses twitter"
   ]
  }
 ],
 "metadata": {
  "kernelspec": {
   "display_name": "Python 3",
   "language": "python",
   "name": "python3"
  },
  "language_info": {
   "codemirror_mode": {
    "name": "ipython",
    "version": 3
   },
   "file_extension": ".py",
   "mimetype": "text/x-python",
   "name": "python",
   "nbconvert_exporter": "python",
   "pygments_lexer": "ipython3",
   "version": "3.4.3"
  }
 },
 "nbformat": 4,
 "nbformat_minor": 0
}
