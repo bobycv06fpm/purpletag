{
 "cells": [
  {
   "cell_type": "code",
   "execution_count": 19,
   "metadata": {
    "collapsed": false
   },
   "outputs": [],
   "source": [
    "import os\n",
    "import pandas as pd\n",
    "import yaml\n",
    "#from data import parse_twitter_handles\n",
    "#from . import config"
   ]
  },
  {
   "cell_type": "code",
   "execution_count": 8,
   "metadata": {
    "collapsed": true
   },
   "outputs": [],
   "source": [
    "# from Aron Culotta\n",
    "def parse_twitter_handles(yaml_doc_path):\n",
    "    #yaml_doc_path = config.get('data', 'path') + '/' + config.get('data', 'twitter_yaml')\n",
    "    if not os.path.isfile(yaml_doc_path):\n",
    "        fetch_twitter_handles()\n",
    "    yaml_doc = yaml.load(open(yaml_doc_path, 'r'))\n",
    "    return [d for d in yaml_doc if 'twitter' in d['social']]"
   ]
  },
  {
   "cell_type": "code",
   "execution_count": 36,
   "metadata": {
    "collapsed": false
   },
   "outputs": [
    {
     "data": {
      "text/plain": [
       "['2016-11-06.1.moc.scores',\n",
       " '2016-11-06.1.scores',\n",
       " '2016-11-06.30.moc.scores',\n",
       " '2016-11-06.30.scores',\n",
       " '2016-11-06.7.moc.scores',\n",
       " '2016-11-06.7.scores',\n",
       " '2016-11-07.1.moc.scores',\n",
       " '2016-11-07.1.scores',\n",
       " '2016-11-07.30.moc.scores',\n",
       " '2016-11-07.30.scores',\n",
       " '2016-11-07.7.moc.scores',\n",
       " '2016-11-07.7.scores',\n",
       " '2016-11-08.1.moc.scores',\n",
       " '2016-11-08.1.scores',\n",
       " '2016-11-08.30.moc.scores',\n",
       " '2016-11-08.30.scores',\n",
       " '2016-11-08.7.moc.scores',\n",
       " '2016-11-08.7.scores',\n",
       " '2016-11-09.1.moc.scores',\n",
       " '2016-11-09.1.scores',\n",
       " '2016-11-09.30.moc.scores',\n",
       " '2016-11-09.30.scores',\n",
       " '2016-11-09.7.moc.scores',\n",
       " '2016-11-09.7.scores',\n",
       " '2016-11-10.1.moc.scores',\n",
       " '2016-11-10.1.scores',\n",
       " '2016-11-10.30.moc.scores',\n",
       " '2016-11-10.30.scores',\n",
       " '2016-11-10.7.moc.scores',\n",
       " '2016-11-10.7.scores']"
      ]
     },
     "execution_count": 36,
     "metadata": {},
     "output_type": "execute_result"
    }
   ],
   "source": [
    "path_prefix = \"/data/purpletag/scores/\"\n",
    "score_files = os.listdir(path_prefix)\n",
    "#score_files"
   ]
  },
  {
   "cell_type": "code",
   "execution_count": 10,
   "metadata": {
    "collapsed": false
   },
   "outputs": [],
   "source": [
    "filename = score_files[0]"
   ]
  },
  {
   "cell_type": "code",
   "execution_count": 11,
   "metadata": {
    "collapsed": true
   },
   "outputs": [],
   "source": [
    "components = filename.split('.')"
   ]
  },
  {
   "cell_type": "code",
   "execution_count": 12,
   "metadata": {
    "collapsed": false
   },
   "outputs": [
    {
     "name": "stdout",
     "output_type": "stream",
     "text": [
      "['2016-11-06', '1', 'moc', 'scores']\n"
     ]
    }
   ],
   "source": [
    "print(components)"
   ]
  },
  {
   "cell_type": "markdown",
   "metadata": {},
   "source": [
    "First item is date, next is number of days, next indicates whether it's hashtags or members of congress."
   ]
  },
  {
   "cell_type": "code",
   "execution_count": 13,
   "metadata": {
    "collapsed": true
   },
   "outputs": [],
   "source": [
    "date = components[0]\n",
    "days = components[1]\n",
    "score_type = components[2]"
   ]
  },
  {
   "cell_type": "markdown",
   "metadata": {},
   "source": [
    "open file and parse twitter handles/scores"
   ]
  },
  {
   "cell_type": "code",
   "execution_count": 14,
   "metadata": {
    "collapsed": false
   },
   "outputs": [],
   "source": [
    "rows = {}\n",
    "scores = []\n",
    "with open(path_prefix + filename) as file:\n",
    "    score_lines = file.readlines()\n",
    "    for s in score_lines:\n",
    "        scores.append(s.split())"
   ]
  },
  {
   "cell_type": "code",
   "execution_count": 15,
   "metadata": {
    "collapsed": false
   },
   "outputs": [
    {
     "data": {
      "text/plain": [
       "[['repdinatitus', '-5'],\n",
       " ['repthompson', '-2.5'],\n",
       " ['senatortomudall', '-2.5'],\n",
       " ['repwilson', '-2.5'],\n",
       " ['peterroskam', '0.4'],\n",
       " ['repscottrigell', '0.4'],\n",
       " ['senjohnthune', '0.4'],\n",
       " ['senthomtillis', '0.4'],\n",
       " ['repwalberg', '1.2'],\n",
       " ['rephardy', '1.2'],\n",
       " ['congressmangt', '1.6'],\n",
       " ['stevescalise', '2'],\n",
       " ['speakerryan', '2'],\n",
       " ['rep_stevewomack', '2.8']]"
      ]
     },
     "execution_count": 15,
     "metadata": {},
     "output_type": "execute_result"
    }
   ],
   "source": [
    "scores"
   ]
  },
  {
   "cell_type": "markdown",
   "metadata": {},
   "source": [
    "Create a dict where the key is the date and the value is a list of mocs + scores for that day"
   ]
  },
  {
   "cell_type": "code",
   "execution_count": 16,
   "metadata": {
    "collapsed": false
   },
   "outputs": [],
   "source": [
    "moc_scores = {}\n",
    "\n",
    "for f in score_files:\n",
    "    filepath = '/data/purpletag/scores/' + f\n",
    "    if '.1.' in f:\n",
    "        components = f.split('.')\n",
    "        date = components[0]\n",
    "        if components[2] == 'moc':\n",
    "            with open(filepath) as score_file:\n",
    "                scores = score_file.readlines()\n",
    "            moc_scores[date] = scores"
   ]
  },
  {
   "cell_type": "code",
   "execution_count": null,
   "metadata": {
    "collapsed": false
   },
   "outputs": [],
   "source": [
    "moc_scores"
   ]
  },
  {
   "cell_type": "code",
   "execution_count": null,
   "metadata": {
    "collapsed": false
   },
   "outputs": [],
   "source": [
    "df = pd.DataFrame(dict([(k, pd.Series(v)) for k,v in moc_scores.items()]))\n",
    "# DataFrame(dict([ (k,Series(v)) for k,v in d.iteritems() ]))"
   ]
  },
  {
   "cell_type": "code",
   "execution_count": null,
   "metadata": {
    "collapsed": false
   },
   "outputs": [],
   "source": [
    "df"
   ]
  },
  {
   "cell_type": "markdown",
   "metadata": {},
   "source": [
    "Let's create a list of all legislators to populate the rows, then we'll fill them in with scores based on the total list."
   ]
  },
  {
   "cell_type": "code",
   "execution_count": 17,
   "metadata": {
    "collapsed": true
   },
   "outputs": [],
   "source": [
    "leglist = '/data/purpletag/twitter.yaml'"
   ]
  },
  {
   "cell_type": "code",
   "execution_count": 22,
   "metadata": {
    "collapsed": false
   },
   "outputs": [],
   "source": [
    "social = parse_twitter_handles(leglist)"
   ]
  },
  {
   "cell_type": "code",
   "execution_count": 47,
   "metadata": {
    "collapsed": false
   },
   "outputs": [],
   "source": [
    "handles = {}\n",
    "for s in social:\n",
    "    handle = s['social']['twitter'].lower()\n",
    "    handles[handle] = {}\n",
    "    #print(handle)"
   ]
  },
  {
   "cell_type": "code",
   "execution_count": 48,
   "metadata": {
    "collapsed": false
   },
   "outputs": [],
   "source": [
    "moc_scores = {}\n",
    "for f in score_files:\n",
    "    filepath = '/data/purpletag/scores/' + f\n",
    "    if '.1.' in f:\n",
    "        components = f.split('.')\n",
    "        date = components[0]\n",
    "        if components[2] == 'moc':\n",
    "            with open(filepath) as score_file:\n",
    "                scores = score_file.readlines()\n",
    "            moc_scores[date] = scores"
   ]
  },
  {
   "cell_type": "code",
   "execution_count": 56,
   "metadata": {
    "collapsed": false
   },
   "outputs": [],
   "source": [
    "for date in moc_scores:\n",
    "    #print(date)\n",
    "    #for h in handles:\n",
    "        #flag = False\n",
    "    for score_item in moc_scores[date]:\n",
    "        #print(score_item)\n",
    "        handle, score = score_item.split()\n",
    "        #if handle == h:\n",
    "        handles[handle][date] = score\n",
    "        #flag = True\n"
   ]
  },
  {
   "cell_type": "code",
   "execution_count": 55,
   "metadata": {
    "collapsed": false
   },
   "outputs": [],
   "source": [
    "#handles"
   ]
  },
  {
   "cell_type": "code",
   "execution_count": 57,
   "metadata": {
    "collapsed": true
   },
   "outputs": [],
   "source": [
    "df = pd.DataFrame(dict([(k, pd.Series(v)) for k,v in handles.items()])).transpose().dropna(how='all') "
   ]
  },
  {
   "cell_type": "code",
   "execution_count": 58,
   "metadata": {
    "collapsed": false
   },
   "outputs": [
    {
     "data": {
      "text/html": [
       "<div>\n",
       "<table border=\"1\" class=\"dataframe\">\n",
       "  <thead>\n",
       "    <tr style=\"text-align: right;\">\n",
       "      <th></th>\n",
       "      <th>2016-11-06</th>\n",
       "      <th>2016-11-07</th>\n",
       "      <th>2016-11-08</th>\n",
       "      <th>2016-11-09</th>\n",
       "      <th>2016-11-10</th>\n",
       "    </tr>\n",
       "  </thead>\n",
       "  <tbody>\n",
       "    <tr>\n",
       "      <th>congmikesimpson</th>\n",
       "      <td>NaN</td>\n",
       "      <td>NaN</td>\n",
       "      <td>NaN</td>\n",
       "      <td>NaN</td>\n",
       "      <td>0.428571</td>\n",
       "    </tr>\n",
       "    <tr>\n",
       "      <th>congressmangt</th>\n",
       "      <td>1.6</td>\n",
       "      <td>0.25</td>\n",
       "      <td>NaN</td>\n",
       "      <td>NaN</td>\n",
       "      <td>1.28571</td>\n",
       "    </tr>\n",
       "    <tr>\n",
       "      <th>davereichert</th>\n",
       "      <td>NaN</td>\n",
       "      <td>0.75</td>\n",
       "      <td>NaN</td>\n",
       "      <td>6.8</td>\n",
       "      <td>0.857142</td>\n",
       "    </tr>\n",
       "    <tr>\n",
       "      <th>drphilroe</th>\n",
       "      <td>NaN</td>\n",
       "      <td>NaN</td>\n",
       "      <td>NaN</td>\n",
       "      <td>NaN</td>\n",
       "      <td>0.428571</td>\n",
       "    </tr>\n",
       "    <tr>\n",
       "      <th>janschakowsky</th>\n",
       "      <td>NaN</td>\n",
       "      <td>NaN</td>\n",
       "      <td>NaN</td>\n",
       "      <td>-4.23971</td>\n",
       "      <td>NaN</td>\n",
       "    </tr>\n",
       "    <tr>\n",
       "      <th>lamarsmithtx21</th>\n",
       "      <td>NaN</td>\n",
       "      <td>NaN</td>\n",
       "      <td>NaN</td>\n",
       "      <td>1.7</td>\n",
       "      <td>NaN</td>\n",
       "    </tr>\n",
       "    <tr>\n",
       "      <th>lorettasanchez</th>\n",
       "      <td>NaN</td>\n",
       "      <td>NaN</td>\n",
       "      <td>NaN</td>\n",
       "      <td>-6.00441</td>\n",
       "      <td>NaN</td>\n",
       "    </tr>\n",
       "    <tr>\n",
       "      <th>markwarner</th>\n",
       "      <td>NaN</td>\n",
       "      <td>NaN</td>\n",
       "      <td>NaN</td>\n",
       "      <td>-0.00213904</td>\n",
       "      <td>NaN</td>\n",
       "    </tr>\n",
       "    <tr>\n",
       "      <th>nikiinthehouse</th>\n",
       "      <td>NaN</td>\n",
       "      <td>-4</td>\n",
       "      <td>-2.66666</td>\n",
       "      <td>NaN</td>\n",
       "      <td>NaN</td>\n",
       "    </tr>\n",
       "    <tr>\n",
       "      <th>peterroskam</th>\n",
       "      <td>0.4</td>\n",
       "      <td>NaN</td>\n",
       "      <td>NaN</td>\n",
       "      <td>NaN</td>\n",
       "      <td>NaN</td>\n",
       "    </tr>\n",
       "    <tr>\n",
       "      <th>petesessions</th>\n",
       "      <td>NaN</td>\n",
       "      <td>NaN</td>\n",
       "      <td>0.75</td>\n",
       "      <td>NaN</td>\n",
       "      <td>NaN</td>\n",
       "    </tr>\n",
       "    <tr>\n",
       "      <th>rep_stevewomack</th>\n",
       "      <td>2.8</td>\n",
       "      <td>NaN</td>\n",
       "      <td>3.75</td>\n",
       "      <td>NaN</td>\n",
       "      <td>NaN</td>\n",
       "    </tr>\n",
       "    <tr>\n",
       "      <th>repadamschiff</th>\n",
       "      <td>NaN</td>\n",
       "      <td>-4</td>\n",
       "      <td>NaN</td>\n",
       "      <td>-0.588235</td>\n",
       "      <td>NaN</td>\n",
       "    </tr>\n",
       "    <tr>\n",
       "      <th>repbillshuster</th>\n",
       "      <td>NaN</td>\n",
       "      <td>NaN</td>\n",
       "      <td>NaN</td>\n",
       "      <td>-4.23971</td>\n",
       "      <td>NaN</td>\n",
       "    </tr>\n",
       "    <tr>\n",
       "      <th>repdinatitus</th>\n",
       "      <td>-5</td>\n",
       "      <td>NaN</td>\n",
       "      <td>NaN</td>\n",
       "      <td>-0.588235</td>\n",
       "      <td>NaN</td>\n",
       "    </tr>\n",
       "    <tr>\n",
       "      <th>repdwstweets</th>\n",
       "      <td>NaN</td>\n",
       "      <td>NaN</td>\n",
       "      <td>NaN</td>\n",
       "      <td>-4.23971</td>\n",
       "      <td>NaN</td>\n",
       "    </tr>\n",
       "    <tr>\n",
       "      <th>repfredupton</th>\n",
       "      <td>NaN</td>\n",
       "      <td>NaN</td>\n",
       "      <td>0.75</td>\n",
       "      <td>NaN</td>\n",
       "      <td>0.428571</td>\n",
       "    </tr>\n",
       "    <tr>\n",
       "      <th>rephardy</th>\n",
       "      <td>1.2</td>\n",
       "      <td>NaN</td>\n",
       "      <td>NaN</td>\n",
       "      <td>NaN</td>\n",
       "      <td>NaN</td>\n",
       "    </tr>\n",
       "    <tr>\n",
       "      <th>repjimrenacci</th>\n",
       "      <td>NaN</td>\n",
       "      <td>NaN</td>\n",
       "      <td>NaN</td>\n",
       "      <td>-0.00213904</td>\n",
       "      <td>NaN</td>\n",
       "    </tr>\n",
       "    <tr>\n",
       "      <th>repjohnyarmuth</th>\n",
       "      <td>NaN</td>\n",
       "      <td>NaN</td>\n",
       "      <td>NaN</td>\n",
       "      <td>-4.23971</td>\n",
       "      <td>NaN</td>\n",
       "    </tr>\n",
       "    <tr>\n",
       "      <th>repjoseserrano</th>\n",
       "      <td>NaN</td>\n",
       "      <td>NaN</td>\n",
       "      <td>NaN</td>\n",
       "      <td>-4.24185</td>\n",
       "      <td>NaN</td>\n",
       "    </tr>\n",
       "    <tr>\n",
       "      <th>replindasanchez</th>\n",
       "      <td>NaN</td>\n",
       "      <td>NaN</td>\n",
       "      <td>NaN</td>\n",
       "      <td>-4.23971</td>\n",
       "      <td>NaN</td>\n",
       "    </tr>\n",
       "    <tr>\n",
       "      <th>reppaultonko</th>\n",
       "      <td>NaN</td>\n",
       "      <td>NaN</td>\n",
       "      <td>-1.33333</td>\n",
       "      <td>-0.00213904</td>\n",
       "      <td>NaN</td>\n",
       "    </tr>\n",
       "    <tr>\n",
       "      <th>repribble</th>\n",
       "      <td>NaN</td>\n",
       "      <td>0.5</td>\n",
       "      <td>NaN</td>\n",
       "      <td>1.7</td>\n",
       "      <td>NaN</td>\n",
       "    </tr>\n",
       "    <tr>\n",
       "      <th>repscottrigell</th>\n",
       "      <td>0.4</td>\n",
       "      <td>NaN</td>\n",
       "      <td>NaN</td>\n",
       "      <td>1.7</td>\n",
       "      <td>NaN</td>\n",
       "    </tr>\n",
       "    <tr>\n",
       "      <th>repshimkus</th>\n",
       "      <td>NaN</td>\n",
       "      <td>NaN</td>\n",
       "      <td>3</td>\n",
       "      <td>NaN</td>\n",
       "      <td>NaN</td>\n",
       "    </tr>\n",
       "    <tr>\n",
       "      <th>repsires</th>\n",
       "      <td>NaN</td>\n",
       "      <td>NaN</td>\n",
       "      <td>-1.33333</td>\n",
       "      <td>NaN</td>\n",
       "      <td>NaN</td>\n",
       "    </tr>\n",
       "    <tr>\n",
       "      <th>repspeier</th>\n",
       "      <td>NaN</td>\n",
       "      <td>NaN</td>\n",
       "      <td>-4</td>\n",
       "      <td>-4.24185</td>\n",
       "      <td>NaN</td>\n",
       "    </tr>\n",
       "    <tr>\n",
       "      <th>repstevestivers</th>\n",
       "      <td>NaN</td>\n",
       "      <td>NaN</td>\n",
       "      <td>1.5</td>\n",
       "      <td>NaN</td>\n",
       "      <td>NaN</td>\n",
       "    </tr>\n",
       "    <tr>\n",
       "      <th>repterrisewell</th>\n",
       "      <td>NaN</td>\n",
       "      <td>NaN</td>\n",
       "      <td>-6.66666</td>\n",
       "      <td>-8.94773</td>\n",
       "      <td>-4.66666</td>\n",
       "    </tr>\n",
       "    <tr>\n",
       "      <th>repthompson</th>\n",
       "      <td>-2.5</td>\n",
       "      <td>NaN</td>\n",
       "      <td>-4.04167</td>\n",
       "      <td>-4.23971</td>\n",
       "      <td>NaN</td>\n",
       "    </tr>\n",
       "    <tr>\n",
       "      <th>reptimryan</th>\n",
       "      <td>NaN</td>\n",
       "      <td>NaN</td>\n",
       "      <td>NaN</td>\n",
       "      <td>NaN</td>\n",
       "      <td>-2.33333</td>\n",
       "    </tr>\n",
       "    <tr>\n",
       "      <th>repwalberg</th>\n",
       "      <td>1.2</td>\n",
       "      <td>0.25</td>\n",
       "      <td>NaN</td>\n",
       "      <td>NaN</td>\n",
       "      <td>NaN</td>\n",
       "    </tr>\n",
       "    <tr>\n",
       "      <th>repwilson</th>\n",
       "      <td>-2.5</td>\n",
       "      <td>NaN</td>\n",
       "      <td>-1.33333</td>\n",
       "      <td>-5.41618</td>\n",
       "      <td>-4.66666</td>\n",
       "    </tr>\n",
       "    <tr>\n",
       "      <th>ronwyden</th>\n",
       "      <td>NaN</td>\n",
       "      <td>NaN</td>\n",
       "      <td>-1.33333</td>\n",
       "      <td>-0.588235</td>\n",
       "      <td>NaN</td>\n",
       "    </tr>\n",
       "    <tr>\n",
       "      <th>senatortimscott</th>\n",
       "      <td>NaN</td>\n",
       "      <td>NaN</td>\n",
       "      <td>0.75</td>\n",
       "      <td>-0.00213904</td>\n",
       "      <td>NaN</td>\n",
       "    </tr>\n",
       "    <tr>\n",
       "      <th>senatortomudall</th>\n",
       "      <td>-2.5</td>\n",
       "      <td>NaN</td>\n",
       "      <td>NaN</td>\n",
       "      <td>NaN</td>\n",
       "      <td>NaN</td>\n",
       "    </tr>\n",
       "    <tr>\n",
       "      <th>senatorwicker</th>\n",
       "      <td>NaN</td>\n",
       "      <td>NaN</td>\n",
       "      <td>1.45833</td>\n",
       "      <td>NaN</td>\n",
       "      <td>NaN</td>\n",
       "    </tr>\n",
       "    <tr>\n",
       "      <th>senjohnthune</th>\n",
       "      <td>0.4</td>\n",
       "      <td>NaN</td>\n",
       "      <td>NaN</td>\n",
       "      <td>NaN</td>\n",
       "      <td>NaN</td>\n",
       "    </tr>\n",
       "    <tr>\n",
       "      <th>senschumer</th>\n",
       "      <td>NaN</td>\n",
       "      <td>NaN</td>\n",
       "      <td>-5.33332</td>\n",
       "      <td>-7.77126</td>\n",
       "      <td>NaN</td>\n",
       "    </tr>\n",
       "    <tr>\n",
       "      <th>senthomtillis</th>\n",
       "      <td>0.4</td>\n",
       "      <td>0.25</td>\n",
       "      <td>1.5</td>\n",
       "      <td>3.39786</td>\n",
       "      <td>0.428571</td>\n",
       "    </tr>\n",
       "    <tr>\n",
       "      <th>sentoomey</th>\n",
       "      <td>NaN</td>\n",
       "      <td>0.5</td>\n",
       "      <td>0.75</td>\n",
       "      <td>NaN</td>\n",
       "      <td>NaN</td>\n",
       "    </tr>\n",
       "    <tr>\n",
       "      <th>senwhitehouse</th>\n",
       "      <td>NaN</td>\n",
       "      <td>NaN</td>\n",
       "      <td>NaN</td>\n",
       "      <td>-0.00213904</td>\n",
       "      <td>NaN</td>\n",
       "    </tr>\n",
       "    <tr>\n",
       "      <th>speakerryan</th>\n",
       "      <td>2</td>\n",
       "      <td>1</td>\n",
       "      <td>4.5</td>\n",
       "      <td>5.1</td>\n",
       "      <td>NaN</td>\n",
       "    </tr>\n",
       "    <tr>\n",
       "      <th>stevescalise</th>\n",
       "      <td>2</td>\n",
       "      <td>0.5</td>\n",
       "      <td>3</td>\n",
       "      <td>-0.00213904</td>\n",
       "      <td>NaN</td>\n",
       "    </tr>\n",
       "    <tr>\n",
       "      <th>toddrokita</th>\n",
       "      <td>NaN</td>\n",
       "      <td>NaN</td>\n",
       "      <td>1.5</td>\n",
       "      <td>NaN</td>\n",
       "      <td>2.14285</td>\n",
       "    </tr>\n",
       "  </tbody>\n",
       "</table>\n",
       "</div>"
      ],
      "text/plain": [
       "                2016-11-06 2016-11-07 2016-11-08   2016-11-09 2016-11-10\n",
       "congmikesimpson        NaN        NaN        NaN          NaN   0.428571\n",
       "congressmangt          1.6       0.25        NaN          NaN    1.28571\n",
       "davereichert           NaN       0.75        NaN          6.8   0.857142\n",
       "drphilroe              NaN        NaN        NaN          NaN   0.428571\n",
       "janschakowsky          NaN        NaN        NaN     -4.23971        NaN\n",
       "lamarsmithtx21         NaN        NaN        NaN          1.7        NaN\n",
       "lorettasanchez         NaN        NaN        NaN     -6.00441        NaN\n",
       "markwarner             NaN        NaN        NaN  -0.00213904        NaN\n",
       "nikiinthehouse         NaN         -4   -2.66666          NaN        NaN\n",
       "peterroskam            0.4        NaN        NaN          NaN        NaN\n",
       "petesessions           NaN        NaN       0.75          NaN        NaN\n",
       "rep_stevewomack        2.8        NaN       3.75          NaN        NaN\n",
       "repadamschiff          NaN         -4        NaN    -0.588235        NaN\n",
       "repbillshuster         NaN        NaN        NaN     -4.23971        NaN\n",
       "repdinatitus            -5        NaN        NaN    -0.588235        NaN\n",
       "repdwstweets           NaN        NaN        NaN     -4.23971        NaN\n",
       "repfredupton           NaN        NaN       0.75          NaN   0.428571\n",
       "rephardy               1.2        NaN        NaN          NaN        NaN\n",
       "repjimrenacci          NaN        NaN        NaN  -0.00213904        NaN\n",
       "repjohnyarmuth         NaN        NaN        NaN     -4.23971        NaN\n",
       "repjoseserrano         NaN        NaN        NaN     -4.24185        NaN\n",
       "replindasanchez        NaN        NaN        NaN     -4.23971        NaN\n",
       "reppaultonko           NaN        NaN   -1.33333  -0.00213904        NaN\n",
       "repribble              NaN        0.5        NaN          1.7        NaN\n",
       "repscottrigell         0.4        NaN        NaN          1.7        NaN\n",
       "repshimkus             NaN        NaN          3          NaN        NaN\n",
       "repsires               NaN        NaN   -1.33333          NaN        NaN\n",
       "repspeier              NaN        NaN         -4     -4.24185        NaN\n",
       "repstevestivers        NaN        NaN        1.5          NaN        NaN\n",
       "repterrisewell         NaN        NaN   -6.66666     -8.94773   -4.66666\n",
       "repthompson           -2.5        NaN   -4.04167     -4.23971        NaN\n",
       "reptimryan             NaN        NaN        NaN          NaN   -2.33333\n",
       "repwalberg             1.2       0.25        NaN          NaN        NaN\n",
       "repwilson             -2.5        NaN   -1.33333     -5.41618   -4.66666\n",
       "ronwyden               NaN        NaN   -1.33333    -0.588235        NaN\n",
       "senatortimscott        NaN        NaN       0.75  -0.00213904        NaN\n",
       "senatortomudall       -2.5        NaN        NaN          NaN        NaN\n",
       "senatorwicker          NaN        NaN    1.45833          NaN        NaN\n",
       "senjohnthune           0.4        NaN        NaN          NaN        NaN\n",
       "senschumer             NaN        NaN   -5.33332     -7.77126        NaN\n",
       "senthomtillis          0.4       0.25        1.5      3.39786   0.428571\n",
       "sentoomey              NaN        0.5       0.75          NaN        NaN\n",
       "senwhitehouse          NaN        NaN        NaN  -0.00213904        NaN\n",
       "speakerryan              2          1        4.5          5.1        NaN\n",
       "stevescalise             2        0.5          3  -0.00213904        NaN\n",
       "toddrokita             NaN        NaN        1.5          NaN    2.14285"
      ]
     },
     "execution_count": 58,
     "metadata": {},
     "output_type": "execute_result"
    }
   ],
   "source": [
    "df"
   ]
  },
  {
   "cell_type": "code",
   "execution_count": 59,
   "metadata": {
    "collapsed": true
   },
   "outputs": [],
   "source": [
    "df.to_csv('moc_scores_by_date.csv', sep='\\t')"
   ]
  },
  {
   "cell_type": "code",
   "execution_count": null,
   "metadata": {
    "collapsed": true
   },
   "outputs": [],
   "source": []
  }
 ],
 "metadata": {
  "kernelspec": {
   "display_name": "Python 3",
   "language": "python",
   "name": "python3"
  },
  "language_info": {
   "codemirror_mode": {
    "name": "ipython",
    "version": 3
   },
   "file_extension": ".py",
   "mimetype": "text/x-python",
   "name": "python",
   "nbconvert_exporter": "python",
   "pygments_lexer": "ipython3",
   "version": "3.4.3"
  }
 },
 "nbformat": 4,
 "nbformat_minor": 0
}
